{
 "cells": [
  {
   "cell_type": "code",
   "execution_count": 1,
   "metadata": {
    "ExecuteTime": {
     "end_time": "2019-05-12T01:29:12.977474Z",
     "start_time": "2019-05-12T01:29:12.641614Z"
    }
   },
   "outputs": [],
   "source": [
    "import pandas as pd\n",
    "import joblib\n",
    "\n",
    "from datetime import datetime as dtt\n",
    "from forex_python.converter import CurrencyRates\n",
    "from collections import Counter"
   ]
  },
  {
   "cell_type": "markdown",
   "metadata": {},
   "source": [
    "## EDA"
   ]
  },
  {
   "cell_type": "code",
   "execution_count": 2,
   "metadata": {
    "ExecuteTime": {
     "end_time": "2019-05-12T01:29:21.874403Z",
     "start_time": "2019-05-12T01:29:13.421425Z"
    }
   },
   "outputs": [],
   "source": [
    "df = pd.read_excel('train_data/Hackatondata.xls')"
   ]
  },
  {
   "cell_type": "code",
   "execution_count": 44,
   "metadata": {
    "ExecuteTime": {
     "end_time": "2019-05-12T01:47:10.091334Z",
     "start_time": "2019-05-12T01:47:09.975815Z"
    }
   },
   "outputs": [],
   "source": [
    "# Select features for training\n",
    "cols =['declaratie_nr', 'decl_datum_invoer', 'decl_datum_ingediend', 'huidig_declaratie_omschrijving', \n",
    "       'log_reden_wijziging', 'dde_omschrijving']\n",
    "cols_dataset = ['declaratie_nr', 'decl_datum_invoer', 'decl_datum_ingediend', 'decl_valuta_code','decl_verw_bedr_val_vreem',\n",
    "                'decl_verwacht_bedrag', 'dde_omschrijving', 'huidig_declaratie_status']\n",
    "data = df[cols_dataset].drop_duplicates('declaratie_nr', keep='last')\n",
    "\n",
    "data.decl_valuta_code.fillna(inplace=True, value='EUR')\n",
    "\n",
    "mask = data.decl_verw_bedr_val_vreem.isna()\n",
    "data.decl_verw_bedr_val_vreem[mask] = data.decl_verwacht_bedrag[mask].copy()\n",
    "\n",
    "data.columns = ['ID', 'DatumInvoer', 'DatumIngediend', 'Valuta', 'BedragVreemd', 'BedragVerwacht', 'Categorie', 'Status']\n",
    "\n",
    "data = data.dropna()\n",
    "\n",
    "# types\n",
    "data.DatumInvoer = pd.to_datetime(data.DatumInvoer)\n",
    "data.DatumIngediend = pd.to_datetime(data.DatumIngediend)\n",
    "data.Status = data.Status.astype(int)"
   ]
  },
  {
   "cell_type": "code",
   "execution_count": 45,
   "metadata": {
    "ExecuteTime": {
     "end_time": "2019-05-12T01:47:14.096869Z",
     "start_time": "2019-05-12T01:47:14.086944Z"
    }
   },
   "outputs": [],
   "source": [
    "a = list(data.Valuta.value_counts().head().index)\n",
    "\n",
    "vmap = {'Parkeerkosten': 'Parking', 'Hotelkosten': 'Hotel', 'VOG / uittreksel GBA overig': 'VOG', 'Opleidingskosten': 'Certificatescosts', 'Reiskosten YP': 'Travelcosts'}"
   ]
  },
  {
   "cell_type": "code",
   "execution_count": 46,
   "metadata": {
    "ExecuteTime": {
     "end_time": "2019-05-12T01:47:16.069359Z",
     "start_time": "2019-05-12T01:47:15.092704Z"
    }
   },
   "outputs": [
    {
     "name": "stderr",
     "output_type": "stream",
     "text": [
      "/home/autarrsd/anaconda3/envs/side/lib/python3.7/site-packages/ipykernel_launcher.py:4: FutureWarning: set_value is deprecated and will be removed in a future release. Please use .at[] or .iat[] accessors instead\n",
      "  after removing the cwd from sys.path.\n",
      "/home/autarrsd/anaconda3/envs/side/lib/python3.7/site-packages/ipykernel_launcher.py:5: FutureWarning: set_value is deprecated and will be removed in a future release. Please use .at[] or .iat[] accessors instead\n",
      "  \"\"\"\n"
     ]
    }
   ],
   "source": [
    "for i, r in data.iterrows():\n",
    "    v = r['Categorie'] \n",
    "    v2 = r['Valuta']\n",
    "    data.set_value(i, 'Categorie', vmap[v] if v in vmap else 'Other')\n",
    "    data.set_value(i, 'Valuta',  v2 if v2 in a else 'Other')"
   ]
  },
  {
   "cell_type": "code",
   "execution_count": 49,
   "metadata": {
    "ExecuteTime": {
     "end_time": "2019-05-12T01:47:21.549788Z",
     "start_time": "2019-05-12T01:47:21.538917Z"
    }
   },
   "outputs": [],
   "source": [
    "def useful(x):\n",
    "    if x == 90:\n",
    "        return True\n",
    "    elif x > 90:\n",
    "        return False\n",
    "    else:\n",
    "        return np.nan"
   ]
  },
  {
   "cell_type": "code",
   "execution_count": 50,
   "metadata": {
    "ExecuteTime": {
     "end_time": "2019-05-12T01:47:24.387726Z",
     "start_time": "2019-05-12T01:47:24.260887Z"
    }
   },
   "outputs": [],
   "source": [
    "data['Label'] = data.Status.apply(useful)\n",
    "\n",
    "data = data.dropna(subset=['Label'])\n",
    "\n",
    "data['DateDiff'] = (data.DatumIngediend - data.DatumInvoer).apply(lambda x: x.days)\n",
    "\n",
    "data = data.drop(columns=['ID', 'Status', 'DatumInvoer', 'DatumIngediend'])\n",
    "\n",
    "combined = pd.concat([data[['BedragVreemd', 'BedragVerwacht', 'Label', 'DateDiff']], pd.get_dummies(data.Valuta), \n",
    "           pd.get_dummies(data.Categorie)], axis=1)"
   ]
  },
  {
   "cell_type": "markdown",
   "metadata": {},
   "source": [
    "### Classifier"
   ]
  },
  {
   "cell_type": "code",
   "execution_count": 57,
   "metadata": {
    "ExecuteTime": {
     "end_time": "2019-05-12T01:48:55.577113Z",
     "start_time": "2019-05-12T01:48:55.571011Z"
    }
   },
   "outputs": [
    {
     "data": {
      "text/plain": [
       "Index(['BedragVreemd', 'BedragVerwacht', 'DateDiff', 'EUR', 'GBP', 'INR',\n",
       "       'Other', 'SEK', 'USD', 'Certificatescosts', 'Hotel', 'Other', 'Parking',\n",
       "       'Travelcosts', 'VOG'],\n",
       "      dtype='object')"
      ]
     },
     "execution_count": 57,
     "metadata": {},
     "output_type": "execute_result"
    }
   ],
   "source": [
    "X.columns"
   ]
  },
  {
   "cell_type": "code",
   "execution_count": 53,
   "metadata": {
    "ExecuteTime": {
     "end_time": "2019-05-12T01:48:16.572897Z",
     "start_time": "2019-05-12T01:48:10.977893Z"
    }
   },
   "outputs": [
    {
     "data": {
      "text/plain": [
       "0.902734375"
      ]
     },
     "execution_count": 53,
     "metadata": {},
     "output_type": "execute_result"
    }
   ],
   "source": [
    "from imblearn.over_sampling import RandomOverSampler\n",
    "from catboost import CatBoostClassifier\n",
    "from xgboost import XGBClassifier\n",
    "from xgboost import XGBRegressor \n",
    "from sklearn.metrics import accuracy_score\n",
    "from sklearn.model_selection import train_test_split\n",
    "\n",
    "y = combined.Label.astype(int)\n",
    "X = combined.drop(columns=['Label'])\n",
    "\n",
    "ros = RandomOverSampler(random_state=0)\n",
    "X_resampled, y_resampled = ros.fit_resample(X, y)\n",
    "X_train, X_validation, y_train, y_validation = train_test_split(X_resampled, y_resampled, test_size=0.2,\n",
    "                                                           random_state=42, stratify=y_resampled)\n",
    "\n",
    "xgb = XGBClassifier(max_depth=25, n_estimators=500, n_jobs=8)\n",
    "xgb.fit(X_train, y_train)\n",
    "\n",
    "y_pred = xgb.predict(X_validation)\n",
    "accuracy_score(y_validation, y_pred)"
   ]
  },
  {
   "cell_type": "markdown",
   "metadata": {},
   "source": [
    "### Inference"
   ]
  },
  {
   "cell_type": "code",
   "execution_count": 110,
   "metadata": {
    "ExecuteTime": {
     "end_time": "2019-05-12T01:23:50.867498Z",
     "start_time": "2019-05-12T01:23:50.859240Z"
    }
   },
   "outputs": [],
   "source": [
    "res = pd.DataFrame()\n",
    "res['Pred'] = y_pred\n",
    "res['Prob'] = y_pred_proba[:,1]"
   ]
  },
  {
   "cell_type": "code",
   "execution_count": 111,
   "metadata": {
    "ExecuteTime": {
     "end_time": "2019-05-12T01:23:57.560124Z",
     "start_time": "2019-05-12T01:23:57.554008Z"
    }
   },
   "outputs": [
    {
     "data": {
      "text/plain": [
       "2560"
      ]
     },
     "execution_count": 111,
     "metadata": {},
     "output_type": "execute_result"
    }
   ],
   "source": [
    "len(res)"
   ]
  },
  {
   "cell_type": "code",
   "execution_count": 82,
   "metadata": {},
   "outputs": [
    {
     "data": {
      "text/plain": [
       "545"
      ]
     },
     "execution_count": 82,
     "metadata": {},
     "output_type": "execute_result"
    }
   ],
   "source": [
    "len(res[(res.Prob < 0.2 ) | (res.Prob > 0.8)])"
   ]
  },
  {
   "cell_type": "code",
   "execution_count": 113,
   "metadata": {
    "ExecuteTime": {
     "end_time": "2019-05-12T01:24:11.428123Z",
     "start_time": "2019-05-12T01:24:11.422332Z"
    }
   },
   "outputs": [],
   "source": [
    "def def_action(x, thresh=0.8):\n",
    "    if x > thresh:\n",
    "        return 'Accept'\n",
    "    elif x < 1-thresh:\n",
    "        return 'Decline'\n",
    "    else:\n",
    "        return 'Expert'"
   ]
  },
  {
   "cell_type": "code",
   "execution_count": 115,
   "metadata": {
    "ExecuteTime": {
     "end_time": "2019-05-12T01:24:16.457186Z",
     "start_time": "2019-05-12T01:24:16.451146Z"
    }
   },
   "outputs": [],
   "source": [
    "res['Action'] = res.Prob.apply(def_action)"
   ]
  },
  {
   "cell_type": "code",
   "execution_count": 116,
   "metadata": {
    "ExecuteTime": {
     "end_time": "2019-05-12T01:24:17.660912Z",
     "start_time": "2019-05-12T01:24:17.653880Z"
    }
   },
   "outputs": [
    {
     "data": {
      "text/plain": [
       "Counter({'Accept': 1067, 'Decline': 1260, 'Expert': 233})"
      ]
     },
     "execution_count": 116,
     "metadata": {},
     "output_type": "execute_result"
    }
   ],
   "source": [
    "Counter(res.Action)"
   ]
  },
  {
   "cell_type": "markdown",
   "metadata": {},
   "source": [
    "### Save model"
   ]
  },
  {
   "cell_type": "code",
   "execution_count": 118,
   "metadata": {
    "ExecuteTime": {
     "end_time": "2019-05-12T01:24:30.714423Z",
     "start_time": "2019-05-12T01:24:30.710339Z"
    }
   },
   "outputs": [],
   "source": [
    "import joblib"
   ]
  },
  {
   "cell_type": "code",
   "execution_count": 119,
   "metadata": {
    "ExecuteTime": {
     "end_time": "2019-05-12T01:24:31.368907Z",
     "start_time": "2019-05-12T01:24:31.347529Z"
    }
   },
   "outputs": [
    {
     "data": {
      "text/plain": [
       "['xgb_inference.joblib']"
      ]
     },
     "execution_count": 119,
     "metadata": {},
     "output_type": "execute_result"
    }
   ],
   "source": [
    "# Saving model\n",
    "joblib.dump(xgb, 'xgb_inference.joblib')"
   ]
  },
  {
   "cell_type": "code",
   "execution_count": 120,
   "metadata": {
    "ExecuteTime": {
     "end_time": "2019-05-12T01:24:32.136698Z",
     "start_time": "2019-05-12T01:24:32.119451Z"
    }
   },
   "outputs": [],
   "source": [
    "# Loading model\n",
    "xgb1 = joblib.load('xgb_inference.joblib')"
   ]
  },
  {
   "cell_type": "code",
   "execution_count": 124,
   "metadata": {
    "ExecuteTime": {
     "end_time": "2019-05-12T01:25:29.008117Z",
     "start_time": "2019-05-12T01:25:28.996351Z"
    }
   },
   "outputs": [
    {
     "data": {
      "text/plain": [
       "array([[128.65, 128.65,   0.  , ...,   0.  ,   0.  ,   0.  ],\n",
       "       [255.2 , 255.2 ,   0.  , ...,   0.  ,   0.  ,   0.  ],\n",
       "       [ 72.6 ,  72.6 ,   0.  , ...,   0.  ,   0.  ,   0.  ],\n",
       "       ...,\n",
       "       [ 59.  ,  59.  ,   0.  , ...,   0.  ,   0.  ,   0.  ],\n",
       "       [ 46.13,  46.13,   0.  , ...,   0.  ,   0.  ,   0.  ],\n",
       "       [ 18.15,  18.15,   0.  , ...,   0.  ,   0.  ,   0.  ]])"
      ]
     },
     "execution_count": 124,
     "metadata": {},
     "output_type": "execute_result"
    }
   ],
   "source": [
    "X_validation"
   ]
  },
  {
   "cell_type": "code",
   "execution_count": 121,
   "metadata": {
    "ExecuteTime": {
     "end_time": "2019-05-12T01:24:40.086252Z",
     "start_time": "2019-05-12T01:24:39.989132Z"
    }
   },
   "outputs": [
    {
     "data": {
      "text/plain": [
       "0.923828125"
      ]
     },
     "execution_count": 121,
     "metadata": {},
     "output_type": "execute_result"
    }
   ],
   "source": [
    "# Making sure it still works\n",
    "y_pred = xgb1.predict(X_validation)\n",
    "accuracy_score(y_validation, y_pred)"
   ]
  },
  {
   "cell_type": "markdown",
   "metadata": {},
   "source": [
    "## Currency Rates"
   ]
  },
  {
   "cell_type": "code",
   "execution_count": 122,
   "metadata": {
    "ExecuteTime": {
     "end_time": "2019-05-12T01:24:43.839647Z",
     "start_time": "2019-05-12T01:24:43.827033Z"
    }
   },
   "outputs": [
    {
     "data": {
      "text/plain": [
       "datetime.datetime(2019, 5, 12, 3, 24, 43, 831860)"
      ]
     },
     "execution_count": 122,
     "metadata": {},
     "output_type": "execute_result"
    }
   ],
   "source": [
    "dtt.now()"
   ]
  },
  {
   "cell_type": "code",
   "execution_count": 123,
   "metadata": {
    "ExecuteTime": {
     "end_time": "2019-05-12T01:24:44.928045Z",
     "start_time": "2019-05-12T01:24:44.920528Z"
    }
   },
   "outputs": [],
   "source": [
    "date_obj = dtt.now()\n",
    "c = CurrencyRates()"
   ]
  },
  {
   "cell_type": "code",
   "execution_count": 27,
   "metadata": {
    "collapsed": true
   },
   "outputs": [
    {
     "data": {
      "text/plain": [
       "{'BGN': 1.7415850401,\n",
       " 'NZD': 1.5160284951,\n",
       " 'ILS': 3.5622439893,\n",
       " 'RUB': 65.3154942119,\n",
       " 'CAD': 1.3474621549,\n",
       " 'USD': 1.0,\n",
       " 'PHP': 52.2902938557,\n",
       " 'CHF': 1.0131789849,\n",
       " 'AUD': 1.4300089047,\n",
       " 'JPY': 109.750667854,\n",
       " 'TRY': 6.1297417631,\n",
       " 'HKD': 7.8481745325,\n",
       " 'MYR': 4.1657168299,\n",
       " 'HRK': 6.5975066785,\n",
       " 'CZK': 22.9136242208,\n",
       " 'IDR': 14405.5031166518,\n",
       " 'DKK': 6.6480854853,\n",
       " 'NOK': 8.7438112199,\n",
       " 'HUF': 288.0854853072,\n",
       " 'GBP': 0.768032057,\n",
       " 'MXN': 19.1975957257,\n",
       " 'THB': 31.5796972395,\n",
       " 'ISK': 121.9946571683,\n",
       " 'ZAR': 14.2263579697,\n",
       " 'BRL': 3.9541406946,\n",
       " 'SGD': 1.3628673197,\n",
       " 'PLN': 3.8254674978,\n",
       " 'INR': 69.9977738201,\n",
       " 'KRW': 1180.160284951,\n",
       " 'RON': 4.2384683882,\n",
       " 'CNY': 6.8235084595,\n",
       " 'SEK': 9.6267141585,\n",
       " 'EUR': 0.8904719501}"
      ]
     },
     "execution_count": 27,
     "metadata": {},
     "output_type": "execute_result"
    }
   ],
   "source": [
    "c.get_rates('USD',date_obj)"
   ]
  },
  {
   "cell_type": "code",
   "execution_count": 2,
   "metadata": {},
   "outputs": [
    {
     "name": "stdout",
     "output_type": "stream",
     "text": [
      " Volume in drive C is OS\n",
      " Volume Serial Number is 6CCF-598B\n",
      "\n",
      " Directory of C:\\Users\\work-02\\Documents\\git\\hackdelft2019\n",
      "\n",
      "11-May-19  04:37 PM    <DIR>          .\n",
      "11-May-19  04:37 PM    <DIR>          ..\n",
      "11-May-19  04:31 PM    <DIR>          .ipynb_checkpoints\n",
      "11-May-19  04:33 PM        20,646,912 Hackatondata.xls\n",
      "11-May-19  04:37 PM             1,300 Untitled.ipynb\n",
      "               2 File(s)     20,648,212 bytes\n",
      "               3 Dir(s)  14,602,547,200 bytes free\n"
     ]
    }
   ],
   "source": [
    "% ls"
   ]
  }
 ],
 "metadata": {
  "kernelspec": {
   "display_name": "Python 3",
   "language": "python",
   "name": "python3"
  },
  "language_info": {
   "codemirror_mode": {
    "name": "ipython",
    "version": 3
   },
   "file_extension": ".py",
   "mimetype": "text/x-python",
   "name": "python",
   "nbconvert_exporter": "python",
   "pygments_lexer": "ipython3",
   "version": "3.7.2"
  },
  "varInspector": {
   "cols": {
    "lenName": 16,
    "lenType": 16,
    "lenVar": 40
   },
   "kernels_config": {
    "python": {
     "delete_cmd_postfix": "",
     "delete_cmd_prefix": "del ",
     "library": "var_list.py",
     "varRefreshCmd": "print(var_dic_list())"
    },
    "r": {
     "delete_cmd_postfix": ") ",
     "delete_cmd_prefix": "rm(",
     "library": "var_list.r",
     "varRefreshCmd": "cat(var_dic_list()) "
    }
   },
   "position": {
    "height": "366px",
    "left": "1157px",
    "right": "20px",
    "top": "120px",
    "width": "350px"
   },
   "types_to_exclude": [
    "module",
    "function",
    "builtin_function_or_method",
    "instance",
    "_Feature"
   ],
   "window_display": false
  }
 },
 "nbformat": 4,
 "nbformat_minor": 2
}
