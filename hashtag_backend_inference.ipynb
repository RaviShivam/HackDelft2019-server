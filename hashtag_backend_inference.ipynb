{
 "cells": [
  {
   "cell_type": "code",
   "execution_count": 1,
   "metadata": {},
   "outputs": [],
   "source": [
    "import pandas as pd\n",
    "import joblib\n",
    "\n",
    "from datetime import datetime as dtt\n",
    "from forex_python.converter import CurrencyRates\n",
    "from collections import Counter"
   ]
  },
  {
   "cell_type": "markdown",
   "metadata": {},
   "source": [
    "## EDA"
   ]
  },
  {
   "cell_type": "code",
   "execution_count": 8,
   "metadata": {},
   "outputs": [],
   "source": [
    "df = pd.read_excel('Hackatondata.xls')"
   ]
  },
  {
   "cell_type": "code",
   "execution_count": 12,
   "metadata": {},
   "outputs": [],
   "source": [
    "cols =['declaratie_nr', 'decl_datum_invoer', 'decl_datum_ingediend', 'huidig_declaratie_omschrijving', \n",
    "       'log_reden_wijziging', 'dde_omschrijving']\n",
    "# temp.loc[temp.log_reden_wijziging.dropna()[temp.log_reden_wijziging.dropna().str.contains('overdue')].index]\n",
    "cols_dataset = ['declaratie_nr', 'decl_datum_invoer', 'decl_datum_ingediend', 'decl_valuta_code','decl_verw_bedr_val_vreem',\n",
    "                'decl_verwacht_bedrag', 'dde_omschrijving', 'huidig_declaratie_status']\n",
    "data = df[cols_dataset].drop_duplicates('declaratie_nr', keep='last')\n",
    "# temp[df.huidig_declaratie_status > 90]\n",
    "# temp = df[df.huidig_declaratie_status > 90][cols].drop_duplicates('declaratie_nr', keep='last')\n",
    "# temp.loc[temp.log_reden_wijziging.dropna()[temp.log_reden_wijziging.dropna().str.contains('overdue')].index]"
   ]
  },
  {
   "cell_type": "code",
   "execution_count": 13,
   "metadata": {},
   "outputs": [
    {
     "data": {
      "text/plain": [
       "7953"
      ]
     },
     "execution_count": 13,
     "metadata": {},
     "output_type": "execute_result"
    }
   ],
   "source": [
    "len(data)"
   ]
  },
  {
   "cell_type": "code",
   "execution_count": 14,
   "metadata": {},
   "outputs": [
    {
     "data": {
      "text/plain": [
       "Parkeerkosten                  1773\n",
       "Hotelkosten                    1283\n",
       "VOG / uittreksel GBA overig     661\n",
       "Opleidingskosten                618\n",
       "Overige                         446\n",
       "Name: dde_omschrijving, dtype: int64"
      ]
     },
     "execution_count": 14,
     "metadata": {},
     "output_type": "execute_result"
    }
   ],
   "source": [
    "data.dde_omschrijving.value_counts().head()"
   ]
  },
  {
   "cell_type": "code",
   "execution_count": 15,
   "metadata": {},
   "outputs": [],
   "source": [
    "data.decl_valuta_code.fillna(inplace=True, value='EUR')"
   ]
  },
  {
   "cell_type": "code",
   "execution_count": 16,
   "metadata": {},
   "outputs": [],
   "source": [
    "mask = data.decl_verw_bedr_val_vreem.isna()\n",
    "data.decl_verw_bedr_val_vreem[mask] = data.decl_verwacht_bedrag[mask].copy()"
   ]
  },
  {
   "cell_type": "code",
   "execution_count": 17,
   "metadata": {},
   "outputs": [],
   "source": [
    "data.columns = ['ID', 'DatumInvoer', 'DatumIngediend', 'Valuta', 'BedragVreemd', 'BedragVerwacht', 'Categorie', 'Status']"
   ]
  },
  {
   "cell_type": "code",
   "execution_count": 18,
   "metadata": {},
   "outputs": [
    {
     "name": "stdout",
     "output_type": "stream",
     "text": [
      "<class 'pandas.core.frame.DataFrame'>\n",
      "Int64Index: 7953 entries, 14 to 50137\n",
      "Data columns (total 8 columns):\n",
      "ID                7952 non-null object\n",
      "DatumInvoer       7933 non-null datetime64[ns]\n",
      "DatumIngediend    7945 non-null object\n",
      "Valuta            7953 non-null object\n",
      "BedragVreemd      7933 non-null float64\n",
      "BedragVerwacht    7933 non-null float64\n",
      "Categorie         7945 non-null object\n",
      "Status            7933 non-null float64\n",
      "dtypes: datetime64[ns](1), float64(3), object(4)\n",
      "memory usage: 879.2+ KB\n"
     ]
    }
   ],
   "source": [
    "data.info()"
   ]
  },
  {
   "cell_type": "code",
   "execution_count": 19,
   "metadata": {},
   "outputs": [],
   "source": [
    "data = data.dropna()"
   ]
  },
  {
   "cell_type": "code",
   "execution_count": 20,
   "metadata": {},
   "outputs": [],
   "source": [
    "# data.dde_omschrijving.isna().sum()\n",
    "data = data.dropna()"
   ]
  },
  {
   "cell_type": "code",
   "execution_count": 21,
   "metadata": {},
   "outputs": [
    {
     "data": {
      "text/plain": [
       "array(['Definitief Fiscaal Afgekeurd', 'Ingediend, stukken opsturen',\n",
       "       'In betalingsproces', 'Definitief Afgekeurd', 'Nieuwe Aanvraag',\n",
       "       'Aanvraag Definitief Afgekeurd', 'Toestemming Verleend',\n",
       "       'Definitief Afgekeurd - Incompleet',\n",
       "       'Incompleet - Stukken Opsturen', nan, 'Aanvullen', 'Uitbetalen',\n",
       "       'Naar Specialistencontrole'], dtype=object)"
      ]
     },
     "execution_count": 21,
     "metadata": {},
     "output_type": "execute_result"
    }
   ],
   "source": [
    "df.huidig_declaratie_omschrijving.unique()"
   ]
  },
  {
   "cell_type": "code",
   "execution_count": 22,
   "metadata": {},
   "outputs": [
    {
     "data": {
      "text/html": [
       "<div>\n",
       "<style scoped>\n",
       "    .dataframe tbody tr th:only-of-type {\n",
       "        vertical-align: middle;\n",
       "    }\n",
       "\n",
       "    .dataframe tbody tr th {\n",
       "        vertical-align: top;\n",
       "    }\n",
       "\n",
       "    .dataframe thead th {\n",
       "        text-align: right;\n",
       "    }\n",
       "</style>\n",
       "<table border=\"1\" class=\"dataframe\">\n",
       "  <thead>\n",
       "    <tr style=\"text-align: right;\">\n",
       "      <th></th>\n",
       "      <th>ID</th>\n",
       "      <th>DatumInvoer</th>\n",
       "      <th>DatumIngediend</th>\n",
       "      <th>Valuta</th>\n",
       "      <th>BedragVreemd</th>\n",
       "      <th>BedragVerwacht</th>\n",
       "      <th>Categorie</th>\n",
       "      <th>Status</th>\n",
       "    </tr>\n",
       "  </thead>\n",
       "  <tbody>\n",
       "    <tr>\n",
       "      <th>14</th>\n",
       "      <td>298071</td>\n",
       "      <td>2018-02-13</td>\n",
       "      <td>2019-03-28 00:00:00</td>\n",
       "      <td>USD</td>\n",
       "      <td>350.00</td>\n",
       "      <td>291.06</td>\n",
       "      <td>Opleidingskosten</td>\n",
       "      <td>95.0</td>\n",
       "    </tr>\n",
       "    <tr>\n",
       "      <th>22</th>\n",
       "      <td>303993</td>\n",
       "      <td>2018-04-29</td>\n",
       "      <td>2019-03-29 00:00:00</td>\n",
       "      <td>EUR</td>\n",
       "      <td>85.80</td>\n",
       "      <td>85.80</td>\n",
       "      <td>Dinerkosten met klant</td>\n",
       "      <td>50.0</td>\n",
       "    </tr>\n",
       "    <tr>\n",
       "      <th>32</th>\n",
       "      <td>303995</td>\n",
       "      <td>2018-04-29</td>\n",
       "      <td>2019-03-30 00:00:00</td>\n",
       "      <td>USD</td>\n",
       "      <td>531.84</td>\n",
       "      <td>443.20</td>\n",
       "      <td>Hotelkosten</td>\n",
       "      <td>90.0</td>\n",
       "    </tr>\n",
       "    <tr>\n",
       "      <th>42</th>\n",
       "      <td>303996</td>\n",
       "      <td>2018-04-29</td>\n",
       "      <td>2019-03-31 00:00:00</td>\n",
       "      <td>INR</td>\n",
       "      <td>20744.72</td>\n",
       "      <td>263.39</td>\n",
       "      <td>Hotelkosten</td>\n",
       "      <td>90.0</td>\n",
       "    </tr>\n",
       "    <tr>\n",
       "      <th>50</th>\n",
       "      <td>303997</td>\n",
       "      <td>2018-04-29</td>\n",
       "      <td>2019-03-31 00:00:00</td>\n",
       "      <td>INR</td>\n",
       "      <td>1058.00</td>\n",
       "      <td>13.43</td>\n",
       "      <td>Vervoerskosten niet flex</td>\n",
       "      <td>93.0</td>\n",
       "    </tr>\n",
       "  </tbody>\n",
       "</table>\n",
       "</div>"
      ],
      "text/plain": [
       "        ID DatumInvoer       DatumIngediend Valuta  BedragVreemd  \\\n",
       "14  298071  2018-02-13  2019-03-28 00:00:00    USD        350.00   \n",
       "22  303993  2018-04-29  2019-03-29 00:00:00    EUR         85.80   \n",
       "32  303995  2018-04-29  2019-03-30 00:00:00    USD        531.84   \n",
       "42  303996  2018-04-29  2019-03-31 00:00:00    INR      20744.72   \n",
       "50  303997  2018-04-29  2019-03-31 00:00:00    INR       1058.00   \n",
       "\n",
       "    BedragVerwacht                 Categorie  Status  \n",
       "14          291.06          Opleidingskosten    95.0  \n",
       "22           85.80     Dinerkosten met klant    50.0  \n",
       "32          443.20               Hotelkosten    90.0  \n",
       "42          263.39               Hotelkosten    90.0  \n",
       "50           13.43  Vervoerskosten niet flex    93.0  "
      ]
     },
     "execution_count": 22,
     "metadata": {},
     "output_type": "execute_result"
    }
   ],
   "source": [
    "data.head()"
   ]
  },
  {
   "cell_type": "code",
   "execution_count": 23,
   "metadata": {},
   "outputs": [],
   "source": [
    "# types\n",
    "data.DatumInvoer = pd.to_datetime(data.DatumInvoer)\n",
    "data.DatumIngediend = pd.to_datetime(data.DatumIngediend)\n",
    "data.Status = data.Status.astype(int)"
   ]
  },
  {
   "cell_type": "code",
   "execution_count": 24,
   "metadata": {},
   "outputs": [],
   "source": [
    "def useful(x):\n",
    "    if x == 90:\n",
    "        return True\n",
    "    elif x > 90:\n",
    "        return False\n",
    "    else:\n",
    "        return np.nan"
   ]
  },
  {
   "cell_type": "code",
   "execution_count": 25,
   "metadata": {},
   "outputs": [],
   "source": [
    "data['Label'] = data.Status.apply(useful)"
   ]
  },
  {
   "cell_type": "code",
   "execution_count": 26,
   "metadata": {},
   "outputs": [
    {
     "data": {
      "text/html": [
       "<div>\n",
       "<style scoped>\n",
       "    .dataframe tbody tr th:only-of-type {\n",
       "        vertical-align: middle;\n",
       "    }\n",
       "\n",
       "    .dataframe tbody tr th {\n",
       "        vertical-align: top;\n",
       "    }\n",
       "\n",
       "    .dataframe thead th {\n",
       "        text-align: right;\n",
       "    }\n",
       "</style>\n",
       "<table border=\"1\" class=\"dataframe\">\n",
       "  <thead>\n",
       "    <tr style=\"text-align: right;\">\n",
       "      <th></th>\n",
       "      <th>ID</th>\n",
       "      <th>DatumInvoer</th>\n",
       "      <th>DatumIngediend</th>\n",
       "      <th>Valuta</th>\n",
       "      <th>BedragVreemd</th>\n",
       "      <th>BedragVerwacht</th>\n",
       "      <th>Categorie</th>\n",
       "      <th>Status</th>\n",
       "      <th>Label</th>\n",
       "    </tr>\n",
       "  </thead>\n",
       "  <tbody>\n",
       "    <tr>\n",
       "      <th>14</th>\n",
       "      <td>298071</td>\n",
       "      <td>2018-02-13</td>\n",
       "      <td>2019-03-28</td>\n",
       "      <td>USD</td>\n",
       "      <td>350.00</td>\n",
       "      <td>291.06</td>\n",
       "      <td>Opleidingskosten</td>\n",
       "      <td>95</td>\n",
       "      <td>False</td>\n",
       "    </tr>\n",
       "    <tr>\n",
       "      <th>22</th>\n",
       "      <td>303993</td>\n",
       "      <td>2018-04-29</td>\n",
       "      <td>2019-03-29</td>\n",
       "      <td>EUR</td>\n",
       "      <td>85.80</td>\n",
       "      <td>85.80</td>\n",
       "      <td>Dinerkosten met klant</td>\n",
       "      <td>50</td>\n",
       "      <td>NaN</td>\n",
       "    </tr>\n",
       "    <tr>\n",
       "      <th>32</th>\n",
       "      <td>303995</td>\n",
       "      <td>2018-04-29</td>\n",
       "      <td>2019-03-30</td>\n",
       "      <td>USD</td>\n",
       "      <td>531.84</td>\n",
       "      <td>443.20</td>\n",
       "      <td>Hotelkosten</td>\n",
       "      <td>90</td>\n",
       "      <td>True</td>\n",
       "    </tr>\n",
       "  </tbody>\n",
       "</table>\n",
       "</div>"
      ],
      "text/plain": [
       "        ID DatumInvoer DatumIngediend Valuta  BedragVreemd  BedragVerwacht  \\\n",
       "14  298071  2018-02-13     2019-03-28    USD        350.00          291.06   \n",
       "22  303993  2018-04-29     2019-03-29    EUR         85.80           85.80   \n",
       "32  303995  2018-04-29     2019-03-30    USD        531.84          443.20   \n",
       "\n",
       "                Categorie  Status  Label  \n",
       "14       Opleidingskosten      95  False  \n",
       "22  Dinerkosten met klant      50    NaN  \n",
       "32            Hotelkosten      90   True  "
      ]
     },
     "execution_count": 26,
     "metadata": {},
     "output_type": "execute_result"
    }
   ],
   "source": [
    "data.head(3)"
   ]
  },
  {
   "cell_type": "code",
   "execution_count": 27,
   "metadata": {},
   "outputs": [],
   "source": [
    "data = data.dropna(subset=['Label'])"
   ]
  },
  {
   "cell_type": "code",
   "execution_count": 28,
   "metadata": {},
   "outputs": [],
   "source": [
    "data['DateDiff'] = (data.DatumIngediend - data.DatumInvoer).apply(lambda x: x.days)"
   ]
  },
  {
   "cell_type": "code",
   "execution_count": 29,
   "metadata": {},
   "outputs": [],
   "source": [
    "data = data.drop(columns=['ID', 'Status', 'DatumInvoer', 'DatumIngediend'])"
   ]
  },
  {
   "cell_type": "code",
   "execution_count": 30,
   "metadata": {},
   "outputs": [
    {
     "data": {
      "text/html": [
       "<div>\n",
       "<style scoped>\n",
       "    .dataframe tbody tr th:only-of-type {\n",
       "        vertical-align: middle;\n",
       "    }\n",
       "\n",
       "    .dataframe tbody tr th {\n",
       "        vertical-align: top;\n",
       "    }\n",
       "\n",
       "    .dataframe thead th {\n",
       "        text-align: right;\n",
       "    }\n",
       "</style>\n",
       "<table border=\"1\" class=\"dataframe\">\n",
       "  <thead>\n",
       "    <tr style=\"text-align: right;\">\n",
       "      <th></th>\n",
       "      <th>Valuta</th>\n",
       "      <th>BedragVreemd</th>\n",
       "      <th>BedragVerwacht</th>\n",
       "      <th>Categorie</th>\n",
       "      <th>Label</th>\n",
       "      <th>DateDiff</th>\n",
       "    </tr>\n",
       "  </thead>\n",
       "  <tbody>\n",
       "    <tr>\n",
       "      <th>14</th>\n",
       "      <td>USD</td>\n",
       "      <td>350.00</td>\n",
       "      <td>291.06</td>\n",
       "      <td>Opleidingskosten</td>\n",
       "      <td>False</td>\n",
       "      <td>408</td>\n",
       "    </tr>\n",
       "    <tr>\n",
       "      <th>32</th>\n",
       "      <td>USD</td>\n",
       "      <td>531.84</td>\n",
       "      <td>443.20</td>\n",
       "      <td>Hotelkosten</td>\n",
       "      <td>True</td>\n",
       "      <td>335</td>\n",
       "    </tr>\n",
       "    <tr>\n",
       "      <th>42</th>\n",
       "      <td>INR</td>\n",
       "      <td>20744.72</td>\n",
       "      <td>263.39</td>\n",
       "      <td>Hotelkosten</td>\n",
       "      <td>True</td>\n",
       "      <td>336</td>\n",
       "    </tr>\n",
       "    <tr>\n",
       "      <th>50</th>\n",
       "      <td>INR</td>\n",
       "      <td>1058.00</td>\n",
       "      <td>13.43</td>\n",
       "      <td>Vervoerskosten niet flex</td>\n",
       "      <td>False</td>\n",
       "      <td>336</td>\n",
       "    </tr>\n",
       "    <tr>\n",
       "      <th>56</th>\n",
       "      <td>INR</td>\n",
       "      <td>1208.00</td>\n",
       "      <td>15.34</td>\n",
       "      <td>Vervoerskosten niet flex</td>\n",
       "      <td>False</td>\n",
       "      <td>336</td>\n",
       "    </tr>\n",
       "  </tbody>\n",
       "</table>\n",
       "</div>"
      ],
      "text/plain": [
       "   Valuta  BedragVreemd  BedragVerwacht                 Categorie  Label  \\\n",
       "14    USD        350.00          291.06          Opleidingskosten  False   \n",
       "32    USD        531.84          443.20               Hotelkosten   True   \n",
       "42    INR      20744.72          263.39               Hotelkosten   True   \n",
       "50    INR       1058.00           13.43  Vervoerskosten niet flex  False   \n",
       "56    INR       1208.00           15.34  Vervoerskosten niet flex  False   \n",
       "\n",
       "    DateDiff  \n",
       "14       408  \n",
       "32       335  \n",
       "42       336  \n",
       "50       336  \n",
       "56       336  "
      ]
     },
     "execution_count": 30,
     "metadata": {},
     "output_type": "execute_result"
    }
   ],
   "source": [
    "data.head()"
   ]
  },
  {
   "cell_type": "code",
   "execution_count": 31,
   "metadata": {},
   "outputs": [
    {
     "data": {
      "text/plain": [
       "Index(['Valuta', 'BedragVreemd', 'BedragVerwacht', 'Categorie', 'Label',\n",
       "       'DateDiff'],\n",
       "      dtype='object')"
      ]
     },
     "execution_count": 31,
     "metadata": {},
     "output_type": "execute_result"
    }
   ],
   "source": [
    "data.columns"
   ]
  },
  {
   "cell_type": "code",
   "execution_count": 32,
   "metadata": {},
   "outputs": [],
   "source": [
    "combined = pd.concat([data[['BedragVreemd', 'BedragVerwacht', 'Label', 'DateDiff']], pd.get_dummies(data.Valuta), \n",
    "           pd.get_dummies(data.Categorie)], axis=1)"
   ]
  },
  {
   "cell_type": "code",
   "execution_count": 33,
   "metadata": {},
   "outputs": [
    {
     "data": {
      "text/plain": [
       "Index(['BedragVreemd', 'BedragVerwacht', 'Label', 'DateDiff', 'AED', 'CHF',\n",
       "       'CNY', 'DKK', 'EUR', 'GBP', 'INR', 'JOD', 'JPY', 'MAD', 'MXN', 'NOK',\n",
       "       'PLN', 'RON', 'RUR', 'SEK', 'SGD', 'TRY', 'TWD', 'USD',\n",
       "       'Additionele Mobiliteitsvergoeding', 'Diner Jubileum lustrum ',\n",
       "       'Dinerbon Sogeti', 'Dinerkosten hotel', 'Dinerkosten met klant',\n",
       "       'Dinerkosten overwerk', 'ESTA', 'Geschenken aan externe',\n",
       "       'Geschenken aan personeel', 'Hotelkosten',\n",
       "       'Informele bijeenkomst - op Sogeti locatie',\n",
       "       'Informele bijeenkomst - op overige locaties', 'Inkoop Start-ups',\n",
       "       'Jubileum diner 12,5- , 25- of 40 jarig', 'Opleidingskosten', 'Overige',\n",
       "       'Parkeerkosten', 'Persoonlijk budget',\n",
       "       'Persoonlijk budget - Uitbetalen', 'Persoonlijk budget - telefoon',\n",
       "       'Reiskosten Kennismigrant', 'Reiskosten YP',\n",
       "       'VOG / uittreksel GBA bij indiensttreding',\n",
       "       'VOG / uittreksel GBA overig', 'Vervoerskosten niet flex',\n",
       "       'Werklunch (intern Sogeti) - op Sogeti locatie',\n",
       "       'Werklunch (intern Sogeti) - op overige locaties',\n",
       "       'Werklunch (met externe) - op Sogeti locatie',\n",
       "       'Werklunch (met externe) - op overige locaties'],\n",
       "      dtype='object')"
      ]
     },
     "execution_count": 33,
     "metadata": {},
     "output_type": "execute_result"
    }
   ],
   "source": [
    "combined.columns "
   ]
  },
  {
   "cell_type": "markdown",
   "metadata": {},
   "source": [
    "### Classifier"
   ]
  },
  {
   "cell_type": "code",
   "execution_count": 34,
   "metadata": {},
   "outputs": [
    {
     "name": "stderr",
     "output_type": "stream",
     "text": [
      "C:\\Users\\work-02\\Anaconda3\\lib\\site-packages\\sklearn\\externals\\six.py:31: DeprecationWarning: The module is deprecated in version 0.21 and will be removed in version 0.23 since we've dropped support for Python 2.7. Please rely on the official version of six (https://pypi.org/project/six/).\n",
      "  \"(https://pypi.org/project/six/).\", DeprecationWarning)\n"
     ]
    }
   ],
   "source": [
    "from imblearn.over_sampling import RandomOverSampler\n",
    "from catboost import CatBoostClassifier\n",
    "from xgboost import XGBClassifier\n",
    "from sklearn.metrics import accuracy_score\n",
    "from sklearn.model_selection import train_test_split"
   ]
  },
  {
   "cell_type": "code",
   "execution_count": 58,
   "metadata": {},
   "outputs": [],
   "source": [
    "y = combined.Label.astype(int)\n",
    "X = combined.drop(columns=['Label'])\n",
    "# X_train, X_validation, y_train, y_validation = train_test_split(X, y, test_size=0.2, random_state=42, stratisfy=y)"
   ]
  },
  {
   "cell_type": "code",
   "execution_count": 59,
   "metadata": {},
   "outputs": [],
   "source": [
    "ros = RandomOverSampler(random_state=0)\n",
    "X_resampled, y_resampled = ros.fit_resample(X, y)\n",
    "X_train, X_validation, y_train, y_validation = train_test_split(X_resampled, y_resampled, test_size=0.2, \n",
    "                                                                random_state=42, stratify=y_resampled)"
   ]
  },
  {
   "cell_type": "code",
   "execution_count": 60,
   "metadata": {},
   "outputs": [
    {
     "data": {
      "text/plain": [
       "Counter({1: 1280, 0: 1280})"
      ]
     },
     "execution_count": 60,
     "metadata": {},
     "output_type": "execute_result"
    }
   ],
   "source": [
    "Counter(y_validation)"
   ]
  },
  {
   "cell_type": "code",
   "execution_count": 61,
   "metadata": {},
   "outputs": [
    {
     "data": {
      "text/plain": [
       "XGBClassifier(base_score=0.5, booster='gbtree', colsample_bylevel=1,\n",
       "              colsample_bytree=1, gamma=0, learning_rate=0.1, max_delta_step=0,\n",
       "              max_depth=3, min_child_weight=1, missing=None, n_estimators=100,\n",
       "              n_jobs=1, nthread=None, objective='binary:logistic',\n",
       "              random_state=0, reg_alpha=0, reg_lambda=1, scale_pos_weight=1,\n",
       "              seed=None, silent=True, subsample=1)"
      ]
     },
     "execution_count": 61,
     "metadata": {},
     "output_type": "execute_result"
    }
   ],
   "source": [
    "xgb = XGBClassifier()\n",
    "xgb.fit(X_train, y_train)"
   ]
  },
  {
   "cell_type": "code",
   "execution_count": 92,
   "metadata": {},
   "outputs": [
    {
     "data": {
      "text/plain": [
       "0.741796875"
      ]
     },
     "execution_count": 92,
     "metadata": {},
     "output_type": "execute_result"
    }
   ],
   "source": [
    "y_pred = xgb.predict(X_validation)\n",
    "y_pred_proba = xgb.predict_proba(X_validation)\n",
    "accuracy_score(y_validation, y_pred)"
   ]
  },
  {
   "cell_type": "markdown",
   "metadata": {},
   "source": [
    "### Inference"
   ]
  },
  {
   "cell_type": "code",
   "execution_count": 70,
   "metadata": {},
   "outputs": [],
   "source": [
    "res = pd.DataFrame()\n",
    "res['Pred'] = y_pred\n",
    "res['Prob'] = y_pred_proba[:,1]"
   ]
  },
  {
   "cell_type": "code",
   "execution_count": 79,
   "metadata": {},
   "outputs": [
    {
     "data": {
      "text/plain": [
       "2560"
      ]
     },
     "execution_count": 79,
     "metadata": {},
     "output_type": "execute_result"
    }
   ],
   "source": [
    "len(res)"
   ]
  },
  {
   "cell_type": "code",
   "execution_count": 82,
   "metadata": {},
   "outputs": [
    {
     "data": {
      "text/plain": [
       "545"
      ]
     },
     "execution_count": 82,
     "metadata": {},
     "output_type": "execute_result"
    }
   ],
   "source": [
    "len(res[(res.Prob < 0.2 ) | (res.Prob > 0.8)])"
   ]
  },
  {
   "cell_type": "code",
   "execution_count": 84,
   "metadata": {},
   "outputs": [],
   "source": [
    "def def_action(x, thresh=0.8):\n",
    "    if x > thresh:\n",
    "        return 'Accept'\n",
    "    elif x < 1-thresh:\n",
    "        return 'Decline'\n",
    "    else:\n",
    "        return 'Expert'"
   ]
  },
  {
   "cell_type": "code",
   "execution_count": null,
   "metadata": {},
   "outputs": [],
   "source": [
    "res['Action'] = res.Prob.apply(def_action)b"
   ]
  },
  {
   "cell_type": "code",
   "execution_count": 88,
   "metadata": {},
   "outputs": [
    {
     "data": {
      "text/plain": [
       "Counter({'Expert': 2015, 'Accept': 290, 'Decline': 255})"
      ]
     },
     "execution_count": 88,
     "metadata": {},
     "output_type": "execute_result"
    }
   ],
   "source": [
    "Counter(res.Action)"
   ]
  },
  {
   "cell_type": "markdown",
   "metadata": {},
   "source": [
    "### Save model"
   ]
  },
  {
   "cell_type": "code",
   "execution_count": 89,
   "metadata": {},
   "outputs": [],
   "source": [
    "import joblib"
   ]
  },
  {
   "cell_type": "code",
   "execution_count": 90,
   "metadata": {},
   "outputs": [
    {
     "data": {
      "text/plain": [
       "['xgb_inference.joblib']"
      ]
     },
     "execution_count": 90,
     "metadata": {},
     "output_type": "execute_result"
    }
   ],
   "source": [
    "# Saving model\n",
    "joblib.dump(xgb, 'xgb_inference.joblib')"
   ]
  },
  {
   "cell_type": "code",
   "execution_count": 91,
   "metadata": {},
   "outputs": [],
   "source": [
    "# Loading model\n",
    "xgb1 = joblib.load('xgb_inference.joblib')"
   ]
  },
  {
   "cell_type": "code",
   "execution_count": 94,
   "metadata": {},
   "outputs": [
    {
     "data": {
      "text/plain": [
       "0.741796875"
      ]
     },
     "execution_count": 94,
     "metadata": {},
     "output_type": "execute_result"
    }
   ],
   "source": [
    "# Making sure it still works\n",
    "y_pred = xgb1.predict(X_validation)\n",
    "accuracy_score(y_validation, y_pred)"
   ]
  },
  {
   "cell_type": "markdown",
   "metadata": {
    "heading_collapsed": true
   },
   "source": [
    "## Currency Rates"
   ]
  },
  {
   "cell_type": "code",
   "execution_count": 22,
   "metadata": {
    "hidden": true
   },
   "outputs": [
    {
     "data": {
      "text/plain": [
       "datetime.datetime(2019, 5, 11, 17, 41, 35, 470776)"
      ]
     },
     "execution_count": 22,
     "metadata": {},
     "output_type": "execute_result"
    }
   ],
   "source": [
    "dtt.now()"
   ]
  },
  {
   "cell_type": "code",
   "execution_count": 24,
   "metadata": {
    "hidden": true
   },
   "outputs": [],
   "source": [
    "date_obj = dtt.now()\n",
    "c = CurrencyRates()"
   ]
  },
  {
   "cell_type": "code",
   "execution_count": 27,
   "metadata": {
    "collapsed": true,
    "hidden": true
   },
   "outputs": [
    {
     "data": {
      "text/plain": [
       "{'BGN': 1.7415850401,\n",
       " 'NZD': 1.5160284951,\n",
       " 'ILS': 3.5622439893,\n",
       " 'RUB': 65.3154942119,\n",
       " 'CAD': 1.3474621549,\n",
       " 'USD': 1.0,\n",
       " 'PHP': 52.2902938557,\n",
       " 'CHF': 1.0131789849,\n",
       " 'AUD': 1.4300089047,\n",
       " 'JPY': 109.750667854,\n",
       " 'TRY': 6.1297417631,\n",
       " 'HKD': 7.8481745325,\n",
       " 'MYR': 4.1657168299,\n",
       " 'HRK': 6.5975066785,\n",
       " 'CZK': 22.9136242208,\n",
       " 'IDR': 14405.5031166518,\n",
       " 'DKK': 6.6480854853,\n",
       " 'NOK': 8.7438112199,\n",
       " 'HUF': 288.0854853072,\n",
       " 'GBP': 0.768032057,\n",
       " 'MXN': 19.1975957257,\n",
       " 'THB': 31.5796972395,\n",
       " 'ISK': 121.9946571683,\n",
       " 'ZAR': 14.2263579697,\n",
       " 'BRL': 3.9541406946,\n",
       " 'SGD': 1.3628673197,\n",
       " 'PLN': 3.8254674978,\n",
       " 'INR': 69.9977738201,\n",
       " 'KRW': 1180.160284951,\n",
       " 'RON': 4.2384683882,\n",
       " 'CNY': 6.8235084595,\n",
       " 'SEK': 9.6267141585,\n",
       " 'EUR': 0.8904719501}"
      ]
     },
     "execution_count": 27,
     "metadata": {},
     "output_type": "execute_result"
    }
   ],
   "source": [
    "c.get_rates('USD',date_obj)"
   ]
  },
  {
   "cell_type": "code",
   "execution_count": 2,
   "metadata": {
    "hidden": true
   },
   "outputs": [
    {
     "name": "stdout",
     "output_type": "stream",
     "text": [
      " Volume in drive C is OS\n",
      " Volume Serial Number is 6CCF-598B\n",
      "\n",
      " Directory of C:\\Users\\work-02\\Documents\\git\\hackdelft2019\n",
      "\n",
      "11-May-19  04:37 PM    <DIR>          .\n",
      "11-May-19  04:37 PM    <DIR>          ..\n",
      "11-May-19  04:31 PM    <DIR>          .ipynb_checkpoints\n",
      "11-May-19  04:33 PM        20,646,912 Hackatondata.xls\n",
      "11-May-19  04:37 PM             1,300 Untitled.ipynb\n",
      "               2 File(s)     20,648,212 bytes\n",
      "               3 Dir(s)  14,602,547,200 bytes free\n"
     ]
    }
   ],
   "source": [
    "% ls"
   ]
  }
 ],
 "metadata": {
  "kernelspec": {
   "display_name": "Python 3",
   "language": "python",
   "name": "python3"
  },
  "language_info": {
   "codemirror_mode": {
    "name": "ipython",
    "version": 3
   },
   "file_extension": ".py",
   "mimetype": "text/x-python",
   "name": "python",
   "nbconvert_exporter": "python",
   "pygments_lexer": "ipython3",
   "version": "3.6.5"
  },
  "varInspector": {
   "cols": {
    "lenName": 16,
    "lenType": 16,
    "lenVar": 40
   },
   "kernels_config": {
    "python": {
     "delete_cmd_postfix": "",
     "delete_cmd_prefix": "del ",
     "library": "var_list.py",
     "varRefreshCmd": "print(var_dic_list())"
    },
    "r": {
     "delete_cmd_postfix": ") ",
     "delete_cmd_prefix": "rm(",
     "library": "var_list.r",
     "varRefreshCmd": "cat(var_dic_list()) "
    }
   },
   "position": {
    "height": "366px",
    "left": "1157px",
    "right": "20px",
    "top": "120px",
    "width": "350px"
   },
   "types_to_exclude": [
    "module",
    "function",
    "builtin_function_or_method",
    "instance",
    "_Feature"
   ],
   "window_display": false
  }
 },
 "nbformat": 4,
 "nbformat_minor": 2
}
